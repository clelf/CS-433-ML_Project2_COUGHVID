{
 "cells": [
  {
   "cell_type": "code",
   "execution_count": 10,
   "metadata": {},
   "outputs": [],
   "source": [
    "import pandas as pd\n",
    "from sklearn.pipeline import Pipeline\n",
    "from sklearn.preprocessing import StandardScaler\n",
    "from sklearn.model_selection import RandomizedSearchCV, GroupKFold\n",
    "## Custom libraries\n",
    "import index_helpers as ih\n",
    "from data_transformations import transformation_call\n",
    "from sklearn.metrics import roc_auc_score\n",
    "from data_transformations import low_var_exclusion"
   ]
  },
  {
   "cell_type": "code",
   "execution_count": 11,
   "metadata": {},
   "outputs": [],
   "source": [
    "#choice of segmentation\n",
    "segmentation = True\n",
    "fine_segmentation=True\n",
    "\n",
    "#Try Expert, Metadata, Normalization, Power\n",
    "exclude_expert=False\n",
    "exclude_meta_data=False\n",
    "normalization=False\n",
    "power=False\n",
    "treshold=0.1\n",
    "\n",
    "## Import, index, and split\n",
    "df = ih.read_and_merge_data(segmentation, fine_segmentation, exclude_expert, exclude_meta_data)\n",
    "df = transformation_call(df, normalization, power)\n",
    "df = ih.index_df_by_person(df)\n",
    "df = low_var_exclusion(df, treshold)\n",
    "df = ih.categorical_float_to_int(df)\n",
    "df = ih.categorical_to_dummy(df)\n",
    "\n",
    "\n",
    "X_train, X_val, y_train, y_val = ih.train_test_split_on_index(df.drop('Label', axis=1),\n",
    "                                                             df['Label'])\n",
    "\n",
    "## Modify data for GroupKFold\n",
    "groups = y_train.reset_index()['File_Name_split']\n",
    "X_train = X_train.reset_index(drop=True)\n",
    "y_train = y_train.reset_index(drop=True)"
   ]
  },
  {
   "cell_type": "code",
   "execution_count": 13,
   "metadata": {},
   "outputs": [
    {
     "name": "stderr",
     "output_type": "stream",
     "text": [
      "C:\\Users\\chris\\anaconda\\lib\\site-packages\\sklearn\\model_selection\\_search.py:278: UserWarning: The total space of parameters 24 is smaller than n_iter=50. Running 24 iterations. For exhaustive searches, use GridSearchCV.\n",
      "  warnings.warn(\n",
      "[Parallel(n_jobs=2)]: Using backend LokyBackend with 2 concurrent workers.\n"
     ]
    },
    {
     "name": "stdout",
     "output_type": "stream",
     "text": [
      "Fitting 10 folds for each of 24 candidates, totalling 240 fits\n"
     ]
    },
    {
     "name": "stderr",
     "output_type": "stream",
     "text": [
      "[Parallel(n_jobs=2)]: Done  66 tasks      | elapsed:  5.8min\n",
      "[Parallel(n_jobs=2)]: Done 216 tasks      | elapsed: 22.6min\n",
      "[Parallel(n_jobs=2)]: Done 240 out of 240 | elapsed: 27.1min finished\n"
     ]
    },
    {
     "name": "stdout",
     "output_type": "stream",
     "text": [
      "Best score:  0.691348949243093\n",
      "Best estimator:  Pipeline(steps=[('clf',\n",
      "                 LogisticRegression(C=2.0, max_iter=500, solver='liblinear'))])\n"
     ]
    }
   ],
   "source": [
    "### Logistic regression\n",
    "from sklearn.linear_model import LogisticRegression\n",
    "\n",
    "## Make pipeline - name classifier \"clf\"\n",
    "clf_pipeline = Pipeline([(\"clf\", LogisticRegression())])\n",
    "\n",
    "## Use \"clf__\" in order to correctly assign parameters to the clf object\n",
    "clf_param_grid = {'clf__penalty':['l1', 'l2'],\n",
    "                  'clf__tol':[ 0.0001],\n",
    "                  'clf__C':[2.0, 1.5, 1.0], \n",
    "               'clf__intercept_scaling':[1], \n",
    "                  'clf__max_iter':[500],\n",
    "                 'clf__solver':[ 'lbfgs', 'liblinear', 'sag', 'saga']}\n",
    "\n",
    "## Instantiate GroupKFold to avoid data leakage - to be passed to cv\n",
    "gkf=GroupKFold(n_splits=10)\n",
    "\n",
    "## Set up Randomized search CV\n",
    "clf_rand_auc = RandomizedSearchCV(estimator=clf_pipeline,\n",
    "                                  param_distributions=clf_param_grid,\n",
    "                                  cv=gkf, scoring='roc_auc', verbose=1, n_jobs=2, n_iter=50)\n",
    "\n",
    "## Perform Group K-Cross-validation\n",
    "clf_rand_auc.fit(X_train, y_train, groups=groups)\n",
    "\n",
    "## Print results\n",
    "print(\"Best score: \",  clf_rand_auc.best_score_)\n",
    "print(\"Best estimator: \", clf_rand_auc.best_estimator_)"
   ]
  },
  {
   "cell_type": "code",
   "execution_count": null,
   "metadata": {},
   "outputs": [],
   "source": []
  }
 ],
 "metadata": {
  "kernelspec": {
   "display_name": "Python 3",
   "language": "python",
   "name": "python3"
  },
  "language_info": {
   "codemirror_mode": {
    "name": "ipython",
    "version": 3
   },
   "file_extension": ".py",
   "mimetype": "text/x-python",
   "name": "python",
   "nbconvert_exporter": "python",
   "pygments_lexer": "ipython3",
   "version": "3.8.3"
  }
 },
 "nbformat": 4,
 "nbformat_minor": 4
}
